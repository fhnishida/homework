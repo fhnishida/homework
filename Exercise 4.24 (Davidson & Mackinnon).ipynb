{
 "cells": [
  {
   "cell_type": "markdown",
   "metadata": {},
   "source": [
    "# Davidson & MacKinnon. Econometric Theory and Methods. (1999)\n",
    "## Exercise 4.24.\n",
    "### Using the file classical.data, which contains 50 observations on three variables, estimate the regression model $$y=\\beta_1\\iota+\\beta_2x_2+\\beta_2x_3+u, \\, u \\sim N(0,\\sigma^2I).$$ Compute a t statistic for the null hypothesis that 𝛽3=0. On the basis of this test statistic, perform an exact test. Then perform parametric and semiparametric bootstrap tests using 99, 999, and 9999 simulations. How do the two types of bootstrap P values correspond with the exact P value? How does this correspondence change as B increases?"
   ]
  },
  {
   "cell_type": "markdown",
   "metadata": {},
   "source": [
    "\n",
    "We'll load \"classical.data.txt\" (provided by the authors in http://qed.econ.queensu.ca/ETM/data/), generate the regression $$y=\\beta_1\\iota+\\beta_2x_2+\\beta_2x_3+u, \\, u \\sim N(0,\\sigma^2I),$$ then get the values of its coefficients and compute the $t$-statistic and the $p$-value. This will be the exact test.\n"
   ]
  },
  {
   "cell_type": "code",
   "execution_count": 1,
   "metadata": {},
   "outputs": [
    {
     "data": {
      "text/plain": [
       "\n",
       "Call:\n",
       "lm(formula = y ~ x2 + x3, data = data)\n",
       "\n",
       "Residuals:\n",
       "    Min      1Q  Median      3Q     Max \n",
       "-2.3678 -0.4788  0.0544  0.5083  2.0062 \n",
       "\n",
       "Coefficients:\n",
       "            Estimate Std. Error t value Pr(>|t|)    \n",
       "(Intercept)  5.09491    0.19762  25.781  < 2e-16 ***\n",
       "x2           1.13487    0.14083   8.058 2.09e-10 ***\n",
       "x3           0.22206    0.09454   2.349   0.0231 *  \n",
       "---\n",
       "Signif. codes:  0 '***' 0.001 '**' 0.01 '*' 0.05 '.' 0.1 ' ' 1\n",
       "\n",
       "Residual standard error: 0.9165 on 47 degrees of freedom\n",
       "Multiple R-squared:  0.7436,\tAdjusted R-squared:  0.7327 \n",
       "F-statistic: 68.16 on 2 and 47 DF,  p-value: 1.285e-14\n"
      ]
     },
     "metadata": {},
     "output_type": "display_data"
    },
    {
     "name": "stdout",
     "output_type": "stream",
     "text": [
      "[1] \"x3 t-value: 2.34872301579707\"\n",
      "[1] \"x3 p-value: 0.0230946473405809\"\n"
     ]
    }
   ],
   "source": [
    "# Load classical.data.txt\n",
    "data = read.table(\"classical.data.txt\",col.names=c(\"n\",\"y\",\"x2\",\"x3\"))\n",
    "\n",
    "#Regression\n",
    "reg = lm(y ~ x2 + x3, data); summary(reg)\n",
    "\n",
    "#Computing t-statistic and testing null hypothesis H_0: beta3 = 0\n",
    "coeff = summary(reg)$coefficients\n",
    "beta1 = coeff[\"(Intercept)\", \"Estimate\"]\n",
    "beta2 = coeff[\"x2\", \"Estimate\"]\n",
    "beta3 = coeff[\"x3\", \"Estimate\"]\n",
    "sd_x3 = coeff[\"x3\", \"Std. Error\"]\n",
    "\n",
    "t_value = beta3 / sd_x3 ; print(paste(\"x3 t-value:\",t_value))\n",
    "p_value = 2 * pt(-abs(t_value), df=nrow(data)-3) ; print(paste(\"x3 p-value:\",p_value))"
   ]
  },
  {
   "cell_type": "markdown",
   "metadata": {},
   "source": [
    "Now, we'll begin by setting 99 simulations and then generate the residuals by computing a regression without the variable $x_3$, since we'll be testing the nulll hypothesis where $\\beta_3=0$."
   ]
  },
  {
   "cell_type": "code",
   "execution_count": 2,
   "metadata": {},
   "outputs": [
    {
     "data": {
      "image/png": "[encoded data removed]",
      "text/plain": [
       "Plot with title \"Distribution of Residuals Under Null Hypothesis\""
      ]
     },
     "metadata": {},
     "output_type": "display_data"
    }
   ],
   "source": [
    "#Bootstrap t-test\n",
    "result_table = NULL #Table to compare results\n",
    "result_table = cbind(p_value)\n",
    "n = nrow(data) # number of observations\n",
    "B = 99 #number of simulations\n",
    "\n",
    "#Regression under null hypothesis\n",
    "reg_null = lm(y ~ x2, data)\n",
    "reg_residual = reg_null$residuals\n",
    "sd_null = summary(reg_null)$sigma\n",
    "\n",
    "options(repr.plot.width=6, repr.plot.height=4)\n",
    "plot(density(reg_residual), main=\"Distribution of Residuals Under Null Hypothesis\")\n",
    "abline(v=mean(reg_residual),col=\"red\")"
   ]
  },
  {
   "cell_type": "markdown",
   "metadata": {},
   "source": [
    "\n",
    "Now, we'll perform first the Semiparametric Bootstrap, where we don't assume a distribuition in the residual and,then, by running 99 simulations we'll create a distribuition of $t$-statistics and compute the $p$-value by its mean.\n"
   ]
  },
  {
   "cell_type": "code",
   "execution_count": 3,
   "metadata": {},
   "outputs": [
    {
     "name": "stdout",
     "output_type": "stream",
     "text": [
      "        p_value p_value_boot_sp  B\n",
      "[1,] 0.02309465      0.01946501 99\n"
     ]
    },
    {
     "data": {
      "image/png": "[encoded data removed]",
      "text/plain": [
       "Plot with title \"Distribution of Semiparametric Bootstrapped t-values\""
      ]
     },
     "metadata": {},
     "output_type": "display_data"
    }
   ],
   "source": [
    "#Semiparametric Bootstrap\n",
    "set.seed(1234) # setting seed for reproducible results  \n",
    "t_boot_sp = NULL #vector to input semiparametric bootstrapped t-values\n",
    "\n",
    "for (i in 1:B){\n",
    "residual_boot_sp = sample(reg_residual, n, replace = TRUE)\n",
    "y_boot_sp = beta1 + beta2*data$x2 + beta3*data$x3 + residual_boot_sp\n",
    "reg_boot_sp = lm(y_boot_sp ~ x2 + x3, data)\n",
    "coeff_boot_sp = summary(reg_boot_sp)$coefficients\n",
    "beta3_boot_sp = coeff_boot_sp[\"x3\", \"Estimate\"]\n",
    "sd_x3_boot_sp = coeff_boot_sp[\"x3\", \"Std. Error\"]\n",
    "t_boot_sp = rbind(t_boot_sp, beta3_boot_sp/sd_x3_boot_sp)\n",
    "}\n",
    "\n",
    "options(repr.plot.width=6, repr.plot.height=4)\n",
    "plot(density(t_boot_sp), main=\"Distribution of Semiparametric Bootstrapped t-values\")\n",
    "abline(v=mean(t_boot_sp),col=\"red\")\n",
    "\n",
    "p_value_boot_sp = 2 * pt(-abs(mean(t_boot_sp)), df=nrow(data)-3) \n",
    "result_table = cbind(result_table, p_value_boot_sp) ; print(cbind(result_table, \"B\"=99))"
   ]
  },
  {
   "cell_type": "markdown",
   "metadata": {},
   "source": [
    "\n",
    "Finally, we'll perform a Parametric Bootstrap, where we assume a normal distribuition of the residuals with mean 0. Then, by running 99 simulations we'll create a distribuition of $t$-statistics and compute the $p$-value by its mean.\n"
   ]
  },
  {
   "cell_type": "code",
   "execution_count": 4,
   "metadata": {},
   "outputs": [
    {
     "name": "stdout",
     "output_type": "stream",
     "text": [
      "        p_value p_value_boot_sp p_value_boot_p  B\n",
      "[1,] 0.02309465      0.01946501     0.02422979 99\n"
     ]
    },
    {
     "data": {
      "image/png": "[encoded data removed]",
      "text/plain": [
       "Plot with title \"Distribution of Parametric Bootstrapped t-values\""
      ]
     },
     "metadata": {},
     "output_type": "display_data"
    }
   ],
   "source": [
    "#Parametric Bootstrap - considering the residuals have normal distribution with mean 0\n",
    "t_boot_p = NULL #vector to input semiparametric bootstrapped t-values\n",
    "for (i in 1:B){\n",
    "residual_boot_p = rnorm(n, 0, sd=sd_null)\n",
    "y_boot_p = beta1 + beta2*data$x2 + beta3*data$x3 + residual_boot_p\n",
    "reg_boot_p = lm(y_boot_p ~ x2 + x3, data)\n",
    "coeff_boot_p = summary(reg_boot_p)$coefficients\n",
    "beta3_boot_p = coeff_boot_p[\"x3\", \"Estimate\"]\n",
    "sd_x3_boot_p = coeff_boot_p[\"x3\", \"Std. Error\"]\n",
    "t_boot_p = rbind(t_boot_p, beta3_boot_p/sd_x3_boot_p)\n",
    "}\n",
    "\n",
    "options(repr.plot.width=6, repr.plot.height=4)\n",
    "plot(density(t_boot_p), main=\"Distribution of Parametric Bootstrapped t-values\")\n",
    "abline(v=mean(t_boot_p),col=\"red\")\n",
    "\n",
    "p_value_boot_p = 2 * pt(-abs(mean(t_boot_p)), df=nrow(data)-3) \n",
    "\n",
    "result_table = cbind(result_table, p_value_boot_p) ; print(cbind(result_table, \"B\"=99))"
   ]
  },
  {
   "cell_type": "markdown",
   "metadata": {},
   "source": [
    "Now, we'll run the Parametric and Semiparametric Bootstraps again for $B$ = 99, 999, 9999 simulations and compare its $p$-values."
   ]
  },
  {
   "cell_type": "code",
   "execution_count": 5,
   "metadata": {},
   "outputs": [
    {
     "name": "stdout",
     "output_type": "stream",
     "text": [
      "        p_value p_value_boot_sp p_value_boot_p  B\n",
      "[1,] 0.02309465      0.01946501     0.02422979 99\n",
      "        p_value p_value_boot_sp p_value_boot_p   B\n",
      "[1,] 0.02309465       0.0208596     0.02873442 999\n",
      "        p_value p_value_boot_sp p_value_boot_p    B\n",
      "[1,] 0.02309465      0.02309937     0.02577165 9999\n"
     ]
    }
   ],
   "source": [
    "#Bootstrap t-test\n",
    "for (j in c(99,999,9999)){\n",
    "  result_table = NULL #Table to compare results\n",
    "  result_table = cbind(p_value)\n",
    "  n = nrow(data) # number of observations\n",
    "  B = j #number of simulations\n",
    "  \n",
    "  #Regression under null hypothesis\n",
    "  reg_null = lm(y ~ x2, data)\n",
    "  reg_residual = reg_null$residuals\n",
    "  sd_y_null = summary(reg_null)$sigma\n",
    "  \n",
    "  \n",
    "  #Semiparametric Bootstrap\n",
    "  set.seed(1234) # setting seed for reproducible results  \n",
    "  t_boot_sp = NULL #vector to input semiparametric bootstrapped t-values\n",
    "  \n",
    "  for (i in 1:B){\n",
    "    residual_boot_sp = sample(reg_residual, n, replace = TRUE)\n",
    "    y_boot_sp = beta1 + beta2*data$x2 + beta3*data$x3 + residual_boot_sp\n",
    "    reg_boot_sp = lm(y_boot_sp ~ x2 + x3, data)\n",
    "    coeff_boot_sp = summary(reg_boot_sp)$coefficients\n",
    "    beta3_boot_sp = coeff_boot_sp[\"x3\", \"Estimate\"]\n",
    "    sd_x3_boot_sp = coeff_boot_sp[\"x3\", \"Std. Error\"]\n",
    "    t_boot_sp = rbind(t_boot_sp, beta3_boot_sp/sd_x3_boot_sp)\n",
    "  }\n",
    "  \n",
    "  p_value_boot_sp = 2 * pt(-abs(mean(t_boot_sp)), df=nrow(data)-3) \n",
    "  result_table = cbind(result_table, p_value_boot_sp)\n",
    "  \n",
    "  \n",
    "  #Parametric Bootstrap - considering the residuals have normal distribution with mean 0\n",
    "  t_boot_p = NULL #vector to input semiparametric bootstrapped t-values\n",
    "  for (i in 1:B){\n",
    "    residual_boot_p = rnorm(n, 0, sd=sd_null)\n",
    "    y_boot_p = beta1 + beta2*data$x2 + beta3*data$x3 + residual_boot_p\n",
    "    reg_boot_p = lm(y_boot_p ~ x2 + x3, data)\n",
    "    coeff_boot_p = summary(reg_boot_p)$coefficients\n",
    "    beta3_boot_p = coeff_boot_p[\"x3\", \"Estimate\"]\n",
    "    sd_x3_boot_p = coeff_boot_p[\"x3\", \"Std. Error\"]\n",
    "    t_boot_p = rbind(t_boot_p, beta3_boot_p/sd_x3_boot_p)\n",
    "  }\n",
    "  \n",
    "  p_value_boot_p = 2 * pt(-abs(mean(t_boot_p)), df=nrow(data)-3) \n",
    "  result_table = cbind(result_table, p_value_boot_p) ; print(cbind(result_table, \"B\"=B))\n",
    "    \n",
    "}"
   ]
  },
  {
   "cell_type": "markdown",
   "metadata": {},
   "source": [
    "\n",
    "Note that the exact $p$-value isn't affect by the number of simulations, since it was calculated before using the Bootstrap method. The semiparametric $p$-values converged to the actual $p$-value by increasing the number of simulations (when $B$ = 9999, the value is really close) and the parametric $p$-values didn't converge to the actual $p$-value.\n"
   ]
  }
 ],
 "metadata": {
  "kernelspec": {
   "display_name": "R",
   "language": "R",
   "name": "ir"
  },
  "language_info": {
   "codemirror_mode": "r",
   "file_extension": ".r",
   "mimetype": "text/x-r-source",
   "name": "R",
   "pygments_lexer": "r",
   "version": "3.6.1"
  }
 },
 "nbformat": 4,
 "nbformat_minor": 4
}
